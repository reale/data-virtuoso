{
  "nbformat": 4,
  "nbformat_minor": 0,
  "metadata": {
    "colab": {
      "name": "Untitled0.ipynb",
      "provenance": [],
      "authorship_tag": "ABX9TyMXMj0YD+LFwryk5ySbYqIz"
    },
    "kernelspec": {
      "name": "python3",
      "display_name": "Python 3"
    },
    "language_info": {
      "name": "python"
    }
  },
  "cells": [
    {
      "cell_type": "markdown",
      "metadata": {
        "id": "VZrcp_-Ze6eL"
      },
      "source": [
        "Install PostgreSQL"
      ]
    },
    {
      "cell_type": "code",
      "metadata": {
        "colab": {
          "base_uri": "https://localhost:8080/",
          "height": 143
        },
        "id": "cRQhKTOkdC9c",
        "outputId": "6f15ef79-0b51-4c79-aae8-06702b71c39b"
      },
      "source": [
        "# install PostgreSQL\n",
        "!apt install postgresql postgresql-contrib &>log\n",
        "!service postgresql start\n",
        "!sudo -u postgres psql -c \"CREATE USER root WITH SUPERUSER\"\n",
        "# set connection\n",
        "%load_ext sql\n",
        "%config SqlMagic.feedback=False \n",
        "%config SqlMagic.autopandas=True\n",
        "%sql postgresql+psycopg2://@/postgres"
      ],
      "execution_count": 1,
      "outputs": [
        {
          "output_type": "stream",
          "text": [
            " * Starting PostgreSQL 10 database server\n",
            "   ...done.\n",
            "CREATE ROLE\n"
          ],
          "name": "stdout"
        },
        {
          "output_type": "stream",
          "text": [
            "/usr/local/lib/python3.7/dist-packages/psycopg2/__init__.py:144: UserWarning: The psycopg2 wheel package will be renamed from release 2.8; in order to keep installing from binary please use \"pip install psycopg2-binary\" instead. For details see: <http://initd.org/psycopg/docs/install.html#binary-install-from-pypi>.\n",
            "  \"\"\")\n"
          ],
          "name": "stderr"
        },
        {
          "output_type": "execute_result",
          "data": {
            "application/vnd.google.colaboratory.intrinsic+json": {
              "type": "string"
            },
            "text/plain": [
              "'Connected: @postgres'"
            ]
          },
          "metadata": {
            "tags": []
          },
          "execution_count": 1
        }
      ]
    },
    {
      "cell_type": "markdown",
      "metadata": {
        "id": "5qqwYSlSd1Bz"
      },
      "source": [
        "# Tables, Tables Everywhere\n",
        "\n",
        "In the relational paradigm, the basic data structure is a table.\n",
        "\n",
        "### List all tables"
      ]
    },
    {
      "cell_type": "code",
      "metadata": {
        "colab": {
          "base_uri": "https://localhost:8080/"
        },
        "id": "uzpexvIteWxC",
        "outputId": "305feffd-b572-4730-b267-a92dcb37e23f"
      },
      "source": [
        "df = %sql SELECT * FROM pg_catalog.pg_tables;\n",
        "\n",
        "print(df)"
      ],
      "execution_count": 10,
      "outputs": [
        {
          "output_type": "stream",
          "text": [
            " * postgresql+psycopg2://@/postgres\n",
            "            schemaname                tablename  ... hastriggers rowsecurity\n",
            "0           pg_catalog             pg_statistic  ...       False       False\n",
            "1           pg_catalog                  pg_type  ...       False       False\n",
            "2           pg_catalog                pg_policy  ...       False       False\n",
            "3           pg_catalog                pg_authid  ...       False       False\n",
            "4           pg_catalog          pg_user_mapping  ...       False       False\n",
            "..                 ...                      ...  ...         ...         ...\n",
            "64  information_schema             sql_features  ...       False       False\n",
            "65  information_schema  sql_implementation_info  ...       False       False\n",
            "66  information_schema             sql_packages  ...       False       False\n",
            "67  information_schema               sql_sizing  ...       False       False\n",
            "68  information_schema      sql_sizing_profiles  ...       False       False\n",
            "\n",
            "[69 rows x 8 columns]\n"
          ],
          "name": "stdout"
        }
      ]
    },
    {
      "cell_type": "markdown",
      "metadata": {
        "id": "dbEYpyLge12W"
      },
      "source": [
        "### Display table index usage rates"
      ]
    },
    {
      "cell_type": "code",
      "metadata": {
        "colab": {
          "base_uri": "https://localhost:8080/"
        },
        "id": "nQScky1bd1e1",
        "outputId": "3443de74-9687-4e4e-e893-6e56d211fc67"
      },
      "source": [
        "df = %sql SELECT relname AS relname, 100 * idx_scan / (seq_scan + idx_scan) AS percent_of_times_index_used, n_live_tup AS rows_in_table FROM pg_stat_user_tables ORDER BY n_live_tup DESC;\n",
        "\n",
        "print(df)"
      ],
      "execution_count": 7,
      "outputs": [
        {
          "output_type": "stream",
          "text": [
            " * postgresql+psycopg2://@/postgres\n",
            "Empty DataFrame\n",
            "Columns: []\n",
            "Index: []\n"
          ],
          "name": "stdout"
        }
      ]
    }
  ]
}